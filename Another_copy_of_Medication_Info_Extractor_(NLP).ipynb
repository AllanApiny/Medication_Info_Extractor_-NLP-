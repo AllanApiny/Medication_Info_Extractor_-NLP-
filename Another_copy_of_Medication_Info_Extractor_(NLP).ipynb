{
  "nbformat": 4,
  "nbformat_minor": 0,
  "metadata": {
    "colab": {
      "provenance": [],
      "authorship_tag": "ABX9TyPQ1lxaps/K5BI++KITr7gc",
      "include_colab_link": true
    },
    "kernelspec": {
      "name": "python3",
      "display_name": "Python 3"
    },
    "language_info": {
      "name": "python"
    }
  },
  "cells": [
    {
      "cell_type": "markdown",
      "metadata": {
        "id": "view-in-github",
        "colab_type": "text"
      },
      "source": [
        "<a href=\"https://colab.research.google.com/github/AllanApiny/Medication_Info_Extractor_-NLP-/blob/main/Another_copy_of_Medication_Info_Extractor_(NLP).ipynb\" target=\"_parent\"><img src=\"https://colab.research.google.com/assets/colab-badge.svg\" alt=\"Open In Colab\"/></a>"
      ]
    },
    {
      "cell_type": "code",
      "source": [
        "import nltk\n",
        "nltk.download('punkt_tab')\n",
        "nltk.download('averaged_perceptron_tagger_eng')\n",
        "nltk.download('maxent_ne_chunker_tab')\n",
        "nltk.download('words')"
      ],
      "metadata": {
        "colab": {
          "base_uri": "https://localhost:8080/"
        },
        "id": "ubzPvH9k4ZUj",
        "outputId": "a3682123-47b2-478b-a0e3-9172b0e8bf40"
      },
      "execution_count": null,
      "outputs": [
        {
          "output_type": "stream",
          "name": "stderr",
          "text": [
            "[nltk_data] Downloading package punkt_tab to /root/nltk_data...\n",
            "[nltk_data]   Unzipping tokenizers/punkt_tab.zip.\n",
            "[nltk_data] Downloading package averaged_perceptron_tagger_eng to\n",
            "[nltk_data]     /root/nltk_data...\n",
            "[nltk_data]   Unzipping taggers/averaged_perceptron_tagger_eng.zip.\n",
            "[nltk_data] Downloading package maxent_ne_chunker_tab to\n",
            "[nltk_data]     /root/nltk_data...\n",
            "[nltk_data]   Unzipping chunkers/maxent_ne_chunker_tab.zip.\n",
            "[nltk_data] Downloading package words to /root/nltk_data...\n",
            "[nltk_data]   Unzipping corpora/words.zip.\n"
          ]
        },
        {
          "output_type": "execute_result",
          "data": {
            "text/plain": [
              "True"
            ]
          },
          "metadata": {},
          "execution_count": 1
        }
      ]
    },
    {
      "cell_type": "code",
      "source": [
        "pip install fuzzywuzzy"
      ],
      "metadata": {
        "colab": {
          "base_uri": "https://localhost:8080/"
        },
        "id": "eWzoD8bvEz1l",
        "outputId": "fb6ee126-8ab9-47db-a62a-73a8a8bcd318"
      },
      "execution_count": null,
      "outputs": [
        {
          "output_type": "stream",
          "name": "stdout",
          "text": [
            "Collecting fuzzywuzzy\n",
            "  Downloading fuzzywuzzy-0.18.0-py2.py3-none-any.whl.metadata (4.9 kB)\n",
            "Downloading fuzzywuzzy-0.18.0-py2.py3-none-any.whl (18 kB)\n",
            "Installing collected packages: fuzzywuzzy\n",
            "Successfully installed fuzzywuzzy-0.18.0\n"
          ]
        }
      ]
    },
    {
      "cell_type": "code",
      "source": [
        "import re\n",
        "from nltk.tokenize import word_tokenize, sent_tokenize\n",
        "from fuzzywuzzy import fuzz, process\n",
        "\n",
        "source_of_truth = [\n",
        "    {\n",
        "        'brand_name': 'Lipitor',\n",
        "        'generic_name': 'atorvastatin',\n",
        "        'dosage': '40mg',\n",
        "        'category': 'statin'\n",
        "    },\n",
        "    {\n",
        "        'brand_name': 'Metformin',\n",
        "        'generic_name': 'metformin hydrochloride',\n",
        "        'dosage': '500mg',\n",
        "        'category': 'antidiabetic'\n",
        "    },\n",
        "    {\n",
        "        'brand_name': 'Zestril',\n",
        "        'generic_name': 'lisinopril',\n",
        "        'dosage': '10mg',\n",
        "        'category': 'Ace Inhibitor'\n",
        "    }\n",
        "]"
      ],
      "metadata": {
        "colab": {
          "base_uri": "https://localhost:8080/"
        },
        "id": "k-0yPDyq22_H",
        "outputId": "4742a37e-077f-4fc8-cb65-5d4a23430fea"
      },
      "execution_count": null,
      "outputs": [
        {
          "output_type": "stream",
          "name": "stderr",
          "text": [
            "/usr/local/lib/python3.11/dist-packages/fuzzywuzzy/fuzz.py:11: UserWarning: Using slow pure-python SequenceMatcher. Install python-Levenshtein to remove this warning\n",
            "  warnings.warn('Using slow pure-python SequenceMatcher. Install python-Levenshtein to remove this warning')\n"
          ]
        }
      ]
    },
    {
      "cell_type": "code",
      "source": [
        "def extract_medication_info(text):\n",
        "  medication_true_names = []\n",
        "  medication_brand_names = []\n",
        "  medication_generic_names = []\n",
        "\n",
        "  for item in source_of_truth:\n",
        "    medication_true_names.extend([item['brand_name'].lower(),item['generic_name'].lower()])\n",
        "    medication_brand_names.append(item['brand_name'].lower())\n",
        "    medication_generic_names.append(item['generic_name'].lower())\n",
        "\n",
        "  # Compile patterns\n",
        "  dosage_pattern = re.compile(r'\\b(\\d+\\s*[mM]?g)\\b')\n",
        "  data_extracted = []\n",
        "\n",
        "  # Process each sentence\n",
        "  for sentence in sent_tokenize(text):\n",
        "      # Split sentence into words and clean them\n",
        "      words = word_tokenize(sentence)\n",
        "      cleaned_words = [word.lower() for word in words if word.isalnum()]\n",
        "\n",
        "      # Find medication matches using fuzzy matching\n",
        "      potential_medications = set()\n",
        "      for word in cleaned_words:\n",
        "          # Use process.extractBests to get multiple potential matches\n",
        "          matches = process.extractBests(word, medication_true_names,\n",
        "                                      scorer=fuzz.token_set_ratio,\n",
        "                                      score_cutoff=80,\n",
        "                                      limit=2)\n",
        "          for match, score in matches:\n",
        "              potential_medications.add(match)\n",
        "\n",
        "      # Convert matches to proper format and find associated names\n",
        "      medications = {}\n",
        "      for med in potential_medications:\n",
        "          if med in medication_brand_names:\n",
        "              medications['brand_name']= med.title()\n",
        "          elif med in medication_generic_names:\n",
        "              medications['generic_name']= med.title()\n",
        "\n",
        "      # Extract dosages\n",
        "      medications['dosage'] = dosage_pattern.findall(sentence)\n",
        "\n",
        "\n",
        "      data_extracted.append(medications)\n",
        "  return data_extracted"
      ],
      "metadata": {
        "id": "iZL8mzYyCcm9"
      },
      "execution_count": null,
      "outputs": []
    },
    {
      "cell_type": "code",
      "source": [
        "extract_medication_info(text)"
      ],
      "metadata": {
        "id": "NsYLpguiqYwL",
        "outputId": "817dbfce-d76d-490e-ee3d-0dc39a16c88b",
        "colab": {
          "base_uri": "https://localhost:8080/"
        }
      },
      "execution_count": null,
      "outputs": [
        {
          "output_type": "execute_result",
          "data": {
            "text/plain": [
              "[{'brand_name': 'Metformin',\n",
              "  'generic_name': 'Metformin Hydrochloride',\n",
              "  'dosage': ['500mg']},\n",
              " {'brand_name': 'Lipitor', 'dosage': ['40mg']},\n",
              " {'generic_name': 'Lisinopril', 'dosage': ['10mg']}]"
            ]
          },
          "metadata": {},
          "execution_count": 7
        }
      ]
    },
    {
      "cell_type": "code",
      "source": [
        "# Test the function\n",
        "text = \"\"\"\n",
        "    The patient was prescribed Metformin 500mg by Novo Nordisk. Lipitor 40mg from Pfizer was recommended for cholesterol.\n",
        "    Also consider lisinopril 10mg if needed.\n",
        "    \"\"\"\n",
        "\n",
        "result = extract_medication_info(text)\n",
        "for i, sentence_data in enumerate(result):\n",
        "    print(f\"\\nSentence {i+1}:\")\n",
        "    print(\"Medications:\", sentence_data)"
      ],
      "metadata": {
        "colab": {
          "base_uri": "https://localhost:8080/"
        },
        "id": "UlSnRmc4CSgX",
        "outputId": "dfe90b65-80ba-4b56-b5f0-a611b16481a6"
      },
      "execution_count": null,
      "outputs": [
        {
          "output_type": "stream",
          "name": "stdout",
          "text": [
            "\n",
            "Sentence 1:\n",
            "Medications: {'brand_name': 'Metformin', 'generic_name': 'Metformin Hydrochloride', 'dosage': ['500mg']}\n",
            "\n",
            "Sentence 2:\n",
            "Medications: {'brand_name': 'Lipitor', 'dosage': ['40mg']}\n",
            "\n",
            "Sentence 3:\n",
            "Medications: {'generic_name': 'Lisinopril', 'dosage': ['10mg']}\n"
          ]
        }
      ]
    }
  ]
}